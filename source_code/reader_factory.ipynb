{
 "cells": [
  {
   "cell_type": "code",
   "execution_count": 0,
   "metadata": {
    "application/vnd.databricks.v1+cell": {
     "cellMetadata": {
      "byteLimit": 2048000,
      "rowLimit": 10000
     },
     "inputWidgets": {},
     "nuid": "e277b186-14ea-468a-a184-107076a1360b",
     "showTitle": false,
     "tableResultSettingsMap": {},
     "title": ""
    }
   },
   "outputs": [],
   "source": [
    "class Datasource:\n",
    "    \"\"\"abstract class\n",
    "    \"\"\"\n",
    "\n",
    "    def __init__(self,path):\n",
    "        self.path = path\n",
    "    \n",
    "    def load_data_frame(self):\n",
    "        \"\"\"\n",
    "        Abstract method, Function will be defined in sub classes\n",
    "        \"\"\"\n",
    "\n",
    "        raise ValueError(\"Not Implemented\")\n",
    "\n",
    "class Csvdatasource(Datasource):\n",
    "    def get_data_frame(self):\n",
    "\n",
    "        return (spark.read.format('csv').option('header',True).load(self.path))\n",
    "    \n",
    "class Parquetdatasource(Datasource):\n",
    "    def get_data_frame(self):\n",
    "        \n",
    "        return (spark.read.format('parquet').option('header',True).load(self.path))\n",
    "    \n",
    "class Deltadatasource(Datasource):\n",
    "    def get_data_frame(self):\n",
    "\n",
    "        table_name = self.path\n",
    "\n",
    "        return (spark.read.table(table_name))\n",
    "        \n",
    "        # return (spark.read.format('delta').option('header',True).load(self.path))\n",
    "    \n",
    "def get_data_source(data_type,file_path):\n",
    "    if data_type == 'csv':\n",
    "        return Csvdatasource(file_path)\n",
    "    elif data_type == 'parquet':\n",
    "        return Parquetdatasource(file_path)\n",
    "    \n",
    "    elif data_type == 'delta':\n",
    "        return Deltadatasource(file_path)\n",
    "    else:\n",
    "        raise ValueError(f\"not implemented for data type :{data_type}\")"
   ]
  },
  {
   "cell_type": "code",
   "execution_count": 0,
   "metadata": {
    "application/vnd.databricks.v1+cell": {
     "cellMetadata": {},
     "inputWidgets": {},
     "nuid": "a9df2ce5-0e68-40a8-8b87-652cc65d598c",
     "showTitle": false,
     "tableResultSettingsMap": {},
     "title": ""
    }
   },
   "outputs": [],
   "source": []
  }
 ],
 "metadata": {
  "application/vnd.databricks.v1+notebook": {
   "computePreferences": null,
   "dashboards": [],
   "environmentMetadata": {
    "base_environment": "",
    "environment_version": "1"
   },
   "inputWidgetPreferences": null,
   "language": "python",
   "notebookMetadata": {
    "pythonIndentUnit": 4
   },
   "notebookName": "reader_factory",
   "widgets": {}
  }
 },
 "nbformat": 4,
 "nbformat_minor": 0
}