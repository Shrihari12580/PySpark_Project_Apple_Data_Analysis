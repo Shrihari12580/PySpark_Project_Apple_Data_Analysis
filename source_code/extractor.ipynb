{
 "cells": [
  {
   "cell_type": "code",
   "execution_count": 0,
   "metadata": {
    "application/vnd.databricks.v1+cell": {
     "cellMetadata": {},
     "inputWidgets": {},
     "nuid": "50da5e73-3045-41d6-a3f1-abcd073da666",
     "showTitle": false,
     "tableResultSettingsMap": {},
     "title": ""
    }
   },
   "outputs": [],
   "source": [
    "class Extractor:\n",
    "    \"\"\"\n",
    "    abstract class\n",
    "    \"\"\"\n",
    "\n",
    "    def __init__(self):\n",
    "        pass\n",
    "\n",
    "    def extract(self):\n",
    "        pass\n",
    "\n",
    "class Airpodsafteriphoneextractor(Extractor):\n",
    "    \"\"\" implement the steps of extracting or reading the data\n",
    "    \"\"\"\n",
    "\n",
    "    def extract(self):\n",
    "        # calling class Csvdatasource and its function get_data_frame\n",
    "        # \n",
    "        # transaction_input_df variable contains Transaction_Updated.csv file data\n",
    "        transaction_input_df = get_data_source(data_type = 'csv',file_path = \"dbfs:/FileStore/tables/Transaction_Updated.csv\").get_data_frame()\n",
    "\n",
    "        transaction_input_df.orderBy(\"customer_id\",\"transaction_date\").display()\n",
    "\n",
    "        customer_input_df = get_data_source(data_type = \"delta\", \n",
    "                                            file_path = \"default.customer_delta_table_persist\").get_data_frame()\n",
    "        \n",
    "\n",
    "        print(\"customer table !!!!\")\n",
    "        customer_input_df.display()\n",
    "\n",
    "         # customer who bought airpods after buying the iphone\n",
    "\n",
    "        #  the data of file Transaction_Updated.csv is stored in this varible. we are just making dict for security\n",
    "        inputDFs = {\n",
    "            \"transaction_input_df\":transaction_input_df,\n",
    "            \"customer_input_df\" : customer_input_df\n",
    "            }\n",
    "        \n",
    "        return inputDFs"
   ]
  }
 ],
 "metadata": {
  "application/vnd.databricks.v1+notebook": {
   "computePreferences": null,
   "dashboards": [],
   "environmentMetadata": {
    "base_environment": "",
    "environment_version": "1"
   },
   "inputWidgetPreferences": null,
   "language": "python",
   "notebookMetadata": {
    "pythonIndentUnit": 4
   },
   "notebookName": "extractor",
   "widgets": {}
  }
 },
 "nbformat": 4,
 "nbformat_minor": 0
}