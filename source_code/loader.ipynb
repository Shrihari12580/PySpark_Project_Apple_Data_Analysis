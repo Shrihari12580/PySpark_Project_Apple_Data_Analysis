{
 "cells": [
  {
   "cell_type": "code",
   "execution_count": 0,
   "metadata": {
    "application/vnd.databricks.v1+cell": {
     "cellMetadata": {
      "byteLimit": 2048000,
      "rowLimit": 10000
     },
     "inputWidgets": {},
     "nuid": "ddd4fba4-484f-45bc-ac41-06a9be1d8735",
     "showTitle": false,
     "tableResultSettingsMap": {},
     "title": ""
    }
   },
   "outputs": [],
   "source": [
    "%run /Users/sdk.khatavkar@gmail.com/Apple_Data_Analysis/loader_factory\n"
   ]
  },
  {
   "cell_type": "code",
   "execution_count": 0,
   "metadata": {
    "application/vnd.databricks.v1+cell": {
     "cellMetadata": {
      "byteLimit": 2048000,
      "rowLimit": 10000
     },
     "inputWidgets": {},
     "nuid": "c44b5e0e-22f8-405e-a30f-0f2ea208b54d",
     "showTitle": false,
     "tableResultSettingsMap": {},
     "title": ""
    }
   },
   "outputs": [],
   "source": [
    "\n",
    "class Abstractloader:\n",
    "    def __init__(self,transformed_df):\n",
    "        self.transformed_df = transformed_df\n",
    "\n",
    "    def sink(self):\n",
    "        pass\n",
    "\n",
    "\n",
    "        \n",
    "class Airpodafteriphoneloader(Abstractloader):\n",
    "    def sink(self):\n",
    "        get_sink_source(sink_type = 'dbfs', df = self.transformed_df,path = \"dbfs:/FileStore/sink_data\",\n",
    "                        method = \"overwrite\").load_dataframe()\n",
    "        \n",
    "\n",
    "class OnlyAirpodsAndIphoneloader(Abstractloader):\n",
    "    def sink(self):\n",
    "        params = {\"partitionBycolumns\" : [\"location\"]}\n",
    "        # get_sink_source(sink_type = 'dbfs_with_partition', df = self.transformed_df.write.format('delta'),path = \"dbfs:/FileStore/sink_data/OnlyAirpodsAndIphone\",\n",
    "        #                 method = \"overwrite\",params = params).load_dataframe()\n",
    "        \n",
    "        get_sink_source(sink_type='dbfs_with_partition',df=self.transformed_df,\n",
    "                        path=\"dbfs:/FileStore/OnlyAirpodsAndIphone\",\n",
    "                        method=\"overwrite\",\n",
    "                        params={\"partitionBycolumns\": [\"location\"]}).load_dataframe()\n",
    "\n"
   ]
  },
  {
   "cell_type": "code",
   "execution_count": 0,
   "metadata": {
    "application/vnd.databricks.v1+cell": {
     "cellMetadata": {},
     "inputWidgets": {},
     "nuid": "2e21e803-ef6f-403f-9926-9215b6569120",
     "showTitle": false,
     "tableResultSettingsMap": {},
     "title": ""
    }
   },
   "outputs": [],
   "source": []
  }
 ],
 "metadata": {
  "application/vnd.databricks.v1+notebook": {
   "computePreferences": null,
   "dashboards": [],
   "environmentMetadata": {
    "base_environment": "",
    "environment_version": "1"
   },
   "inputWidgetPreferences": null,
   "language": "python",
   "notebookMetadata": {
    "pythonIndentUnit": 4
   },
   "notebookName": "loader",
   "widgets": {}
  }
 },
 "nbformat": 4,
 "nbformat_minor": 0
}