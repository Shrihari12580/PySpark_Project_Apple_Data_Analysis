{
 "cells": [
  {
   "cell_type": "code",
   "execution_count": 0,
   "metadata": {
    "application/vnd.databricks.v1+cell": {
     "cellMetadata": {
      "byteLimit": 2048000,
      "rowLimit": 10000
     },
     "inputWidgets": {},
     "nuid": "b635cee3-8b69-457c-b2a4-2985956e5684",
     "showTitle": false,
     "tableResultSettingsMap": {},
     "title": ""
    }
   },
   "outputs": [],
   "source": [
    "class Datasink:\n",
    "    def __init__(self,df,path,method,params):\n",
    "        self.df = df\n",
    "        self.path = path\n",
    "        self.method = method\n",
    "        self.params = params\n",
    "\n",
    "    def load_data_frame(self):\n",
    "        \"\"\"\n",
    "        abstract method, function is defined in sub class\n",
    "        \"\"\"\n",
    "        raise ValueError(\"not implemented !\")\n",
    "\n",
    "class LoadtoDBFS(Datasink):\n",
    "    def load_dataframe(self):\n",
    "        self.df.write.mode(self.method).save(self.path)\n",
    "\n",
    "class LoadtoDBFSwithpartition(Datasink):\n",
    "\n",
    "    def load_dataframe(self):\n",
    "        partitionBycolumns = self.params.get(\"partitionBycolumns\")\n",
    "\n",
    "        self.df.write.mode(self.method).partitionBy(*partitionBycolumns).save(self.path)\n",
    "\n",
    "def get_sink_source(sink_type,df,path,method,params=None):\n",
    "    if sink_type == 'dbfs':\n",
    "        return LoadtoDBFS(df,path,method,params)\n",
    "    \n",
    "    elif sink_type == 'dbfs_with_partition':\n",
    "        return LoadtoDBFSwithpartition(df,path,method,params)\n",
    "    \n",
    "    else:\n",
    "        return ValueError(f\"not implemented for sink type : {sink_type}\")"
   ]
  },
  {
   "cell_type": "code",
   "execution_count": 0,
   "metadata": {
    "application/vnd.databricks.v1+cell": {
     "cellMetadata": {},
     "inputWidgets": {},
     "nuid": "95676732-da6d-4675-84dc-4aa6b9c816c2",
     "showTitle": false,
     "tableResultSettingsMap": {},
     "title": ""
    }
   },
   "outputs": [],
   "source": []
  }
 ],
 "metadata": {
  "application/vnd.databricks.v1+notebook": {
   "computePreferences": null,
   "dashboards": [],
   "environmentMetadata": {
    "base_environment": "",
    "environment_version": "1"
   },
   "inputWidgetPreferences": null,
   "language": "python",
   "notebookMetadata": {
    "pythonIndentUnit": 4
   },
   "notebookName": "loader_factory",
   "widgets": {}
  }
 },
 "nbformat": 4,
 "nbformat_minor": 0
}