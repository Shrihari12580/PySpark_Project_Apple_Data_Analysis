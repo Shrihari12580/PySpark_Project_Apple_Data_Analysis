{
 "cells": [
  {
   "cell_type": "code",
   "execution_count": 0,
   "metadata": {
    "application/vnd.databricks.v1+cell": {
     "cellMetadata": {
      "byteLimit": 2048000,
      "rowLimit": 10000
     },
     "inputWidgets": {},
     "nuid": "987ffd07-cb91-4417-9f05-05ebeb575cc8",
     "showTitle": false,
     "tableResultSettingsMap": {},
     "title": ""
    }
   },
   "outputs": [],
   "source": [
    "\n",
    "from pyspark.sql import *\n",
    "from pyspark.sql.types import *\n",
    "from pyspark.sql.functions import *"
   ]
  },
  {
   "cell_type": "code",
   "execution_count": 0,
   "metadata": {
    "application/vnd.databricks.v1+cell": {
     "cellMetadata": {
      "byteLimit": 2048000,
      "rowLimit": 10000
     },
     "inputWidgets": {},
     "nuid": "464a5539-447c-4b9b-a7db-ffd34b55e665",
     "showTitle": false,
     "tableResultSettingsMap": {},
     "title": ""
    }
   },
   "outputs": [],
   "source": []
  },
  {
   "cell_type": "code",
   "execution_count": 0,
   "metadata": {
    "application/vnd.databricks.v1+cell": {
     "cellMetadata": {
      "byteLimit": 2048000,
      "rowLimit": 10000
     },
     "inputWidgets": {},
     "nuid": "64214f32-e7ab-4a57-bbbf-6c0b807d442b",
     "showTitle": false,
     "tableResultSettingsMap": {},
     "title": ""
    }
   },
   "outputs": [],
   "source": [
    "class Transformer:\n",
    "    def __init__(self):\n",
    "        pass\n",
    "    def transform(self,inputDFs):\n",
    "        pass\n",
    "    \n",
    "class AirpodsAfterIphone(Transformer):\n",
    "    def transform(self,inputDFs):\n",
    "       \"\"\" \n",
    "       customer who bought airpods after buying the iphone\n",
    "       \"\"\"\n",
    "       transaction_input_df = inputDFs.get(\"transaction_input_df\")\n",
    "       print(\"transaction_input_df in transform\")\n",
    "       transaction_input_df.display()\n",
    "       \n",
    "\n",
    "       windowspec = Window.partitionBy('customer_id').orderBy('transaction_date')\n",
    "       transformdf = transaction_input_df.withColumn(\"next_product_name\",lead(\"product_name\").over(windowspec))\n",
    "\n",
    "       print(\"airpods after buying iphone\")\n",
    "\n",
    "       transformdf.orderBy('customer_id','transaction_date','product_name').display()\n",
    "       print(\"filter df !!!!\") \n",
    "\n",
    "       filterdf = transformdf.filter((col('product_name') == 'iPhone') & (col('next_product_name') == 'AirPods'))\n",
    "       filterdf.orderBy('customer_id','transaction_date','product_name').display() \n",
    "\n",
    "       customer_input_df = inputDFs.get('customer_input_df')\n",
    "       join_df = customer_input_df.join(broadcast(filterdf),\"customer_id\")\n",
    "\n",
    "       print(\"join df !!!!!\")\n",
    "       join_df.display()\n",
    "       return join_df.select('customer_id','customer_name','location')\n",
    "   \n",
    "\n",
    "class OnlyAirpodsAndIphone(Transformer):\n",
    "    def transform(self,inputDFs):\n",
    "        \"\"\"\n",
    "        customer who bought only iphone and airpods nothing else\n",
    "        \"\"\"\n",
    "        transaction_input_df = inputDFs.get(\"transaction_input_df\")\n",
    "        print(\"transaction_input_df in transform\")\n",
    "        transaction_input_df.display()\n",
    "\n",
    "        groupdf = transaction_input_df.groupBy(\"customer_id\").agg(collect_set(\"product_name\").alias(\"produts\"))\n",
    "        groupdf.display()\n",
    "\n",
    "        filterdf = groupdf.filter((array_contains(col('produts'),\"iPhone\")) & \n",
    "                                  (array_contains(col('produts'),\"AirPods\"))&\n",
    "                                  (size(col(\"produts\")) == 2))\n",
    "        filterdf.display() \n",
    "\n",
    "        customer_input_df = inputDFs.get('customer_input_df')\n",
    "        join_df = customer_input_df.join(broadcast(filterdf),\"customer_id\")\n",
    "\n",
    "        print(\"join df !!!!!\")\n",
    "        join_df.display()\n",
    "        return join_df.select('customer_id','customer_name','location')\n",
    "        "
   ]
  },
  {
   "cell_type": "code",
   "execution_count": 0,
   "metadata": {
    "application/vnd.databricks.v1+cell": {
     "cellMetadata": {},
     "inputWidgets": {},
     "nuid": "cec9556d-39f7-4093-be6c-72df7a31489b",
     "showTitle": false,
     "tableResultSettingsMap": {},
     "title": ""
    }
   },
   "outputs": [],
   "source": []
  }
 ],
 "metadata": {
  "application/vnd.databricks.v1+notebook": {
   "computePreferences": null,
   "dashboards": [],
   "environmentMetadata": {
    "base_environment": "",
    "environment_version": "1"
   },
   "inputWidgetPreferences": null,
   "language": "python",
   "notebookMetadata": {
    "pythonIndentUnit": 4
   },
   "notebookName": "transform",
   "widgets": {}
  }
 },
 "nbformat": 4,
 "nbformat_minor": 0
}