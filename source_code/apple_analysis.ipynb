{
 "cells": [
  {
   "cell_type": "code",
   "execution_count": 0,
   "metadata": {
    "application/vnd.databricks.v1+cell": {
     "cellMetadata": {
      "byteLimit": 2048000,
      "rowLimit": 10000
     },
     "inputWidgets": {},
     "nuid": "1953f80c-3ac9-4b2b-9f93-296061a08086",
     "showTitle": false,
     "tableResultSettingsMap": {},
     "title": ""
    }
   },
   "outputs": [],
   "source": [
    "%run \"./reader_factory\""
   ]
  },
  {
   "cell_type": "code",
   "execution_count": 0,
   "metadata": {
    "application/vnd.databricks.v1+cell": {
     "cellMetadata": {
      "byteLimit": 2048000,
      "rowLimit": 10000
     },
     "inputWidgets": {},
     "nuid": "7d213dcc-a107-45ae-a4ea-a0569a2d9e8c",
     "showTitle": false,
     "tableResultSettingsMap": {},
     "title": ""
    }
   },
   "outputs": [],
   "source": [
    "%run \"./transform\""
   ]
  },
  {
   "cell_type": "code",
   "execution_count": 0,
   "metadata": {
    "application/vnd.databricks.v1+cell": {
     "cellMetadata": {
      "byteLimit": 2048000,
      "rowLimit": 10000
     },
     "inputWidgets": {},
     "nuid": "dfd391eb-a795-47b8-89e8-890b039c6f8c",
     "showTitle": false,
     "tableResultSettingsMap": {},
     "title": ""
    }
   },
   "outputs": [],
   "source": [
    "%run \"./extractor\""
   ]
  },
  {
   "cell_type": "code",
   "execution_count": 0,
   "metadata": {
    "application/vnd.databricks.v1+cell": {
     "cellMetadata": {
      "byteLimit": 2048000,
      "rowLimit": 10000
     },
     "inputWidgets": {},
     "nuid": "437250d2-23c1-4ad5-8824-85aac893bb8a",
     "showTitle": false,
     "tableResultSettingsMap": {},
     "title": ""
    }
   },
   "outputs": [
    {
     "output_type": "stream",
     "name": "stdout",
     "output_type": "stream",
     "text": [
      "Wrote 13 bytes.\nOut[10]: True"
     ]
    }
   ],
   "source": [
    "dbutils.fs.put(\"/FileStore/sink_data/hello.txt\", \"Hello, world!\", True)\n"
   ]
  },
  {
   "cell_type": "code",
   "execution_count": 0,
   "metadata": {
    "application/vnd.databricks.v1+cell": {
     "cellMetadata": {
      "byteLimit": 2048000,
      "rowLimit": 10000
     },
     "inputWidgets": {},
     "nuid": "4a39a74e-c019-434e-b525-0c00be319fd2",
     "showTitle": false,
     "tableResultSettingsMap": {},
     "title": ""
    }
   },
   "outputs": [
    {
     "output_type": "stream",
     "name": "stdout",
     "output_type": "stream",
     "text": [
      "Out[11]: True"
     ]
    }
   ],
   "source": [
    "dbutils.fs.rm(\"/FileStore/sink_data/hello.txt\")\n"
   ]
  },
  {
   "cell_type": "code",
   "execution_count": 0,
   "metadata": {
    "application/vnd.databricks.v1+cell": {
     "cellMetadata": {
      "byteLimit": 2048000,
      "rowLimit": 10000
     },
     "inputWidgets": {},
     "nuid": "02e6cf27-2166-41fe-a53f-50f9cfcb43c4",
     "showTitle": false,
     "tableResultSettingsMap": {},
     "title": ""
    }
   },
   "outputs": [
    {
     "output_type": "stream",
     "name": "stdout",
     "output_type": "stream",
     "text": [
      "Out[64]: True"
     ]
    }
   ],
   "source": [
    "dbutils.fs.mkdirs(\"dbfs:/FileStore/OnlyAirpodsAndIphone\")\n"
   ]
  },
  {
   "cell_type": "code",
   "execution_count": 0,
   "metadata": {
    "application/vnd.databricks.v1+cell": {
     "cellMetadata": {
      "byteLimit": 2048000,
      "rowLimit": 10000
     },
     "inputWidgets": {},
     "nuid": "3315e8a4-3fcf-41b2-9c63-e74ba669b9d2",
     "showTitle": false,
     "tableResultSettingsMap": {},
     "title": ""
    }
   },
   "outputs": [],
   "source": [
    "%run \"./loader_factory\""
   ]
  },
  {
   "cell_type": "code",
   "execution_count": 0,
   "metadata": {
    "application/vnd.databricks.v1+cell": {
     "cellMetadata": {
      "byteLimit": 2048000,
      "rowLimit": 10000
     },
     "inputWidgets": {},
     "nuid": "097f5428-3483-4f76-877c-3c5f18a24000",
     "showTitle": false,
     "tableResultSettingsMap": {},
     "title": ""
    }
   },
   "outputs": [],
   "source": [
    "%run \"./loader\""
   ]
  },
  {
   "cell_type": "code",
   "execution_count": 0,
   "metadata": {
    "application/vnd.databricks.v1+cell": {
     "cellMetadata": {
      "byteLimit": 2048000,
      "rowLimit": 10000
     },
     "inputWidgets": {},
     "nuid": "a8789b4e-84f6-4acd-b004-e745e5a9e6ac",
     "showTitle": false,
     "tableResultSettingsMap": {},
     "title": ""
    }
   },
   "outputs": [],
   "source": [
    "from pyspark.sql.functions import *\n",
    "from pyspark.sql.types import *\n",
    "from pyspark.sql import *"
   ]
  },
  {
   "cell_type": "code",
   "execution_count": 0,
   "metadata": {
    "application/vnd.databricks.v1+cell": {
     "cellMetadata": {
      "byteLimit": 2048000,
      "rowLimit": 10000
     },
     "inputWidgets": {},
     "nuid": "a42c0b57-4219-46de-8042-d7e76f2b1756",
     "showTitle": false,
     "tableResultSettingsMap": {},
     "title": ""
    }
   },
   "outputs": [
    {
     "output_type": "display_data",
     "data": {
      "text/html": [
       "<style scoped>\n",
       "  .table-result-container {\n",
       "    max-height: 300px;\n",
       "    overflow: auto;\n",
       "  }\n",
       "  table, th, td {\n",
       "    border: 1px solid black;\n",
       "    border-collapse: collapse;\n",
       "  }\n",
       "  th, td {\n",
       "    padding: 5px;\n",
       "  }\n",
       "  th {\n",
       "    text-align: left;\n",
       "  }\n",
       "</style><div class='table-result-container'><table class='table-result'><thead style='background-color: white'><tr><th>customer_id</th><th>customer_name</th><th>join_date</th><th>location</th></tr></thead><tbody><tr><td>105</td><td>Eva</td><td>2022-01-01</td><td>Ohio</td></tr><tr><td>106</td><td>Frank</td><td>2022-02-01</td><td>Nevada</td></tr><tr><td>107</td><td>Grace</td><td>2022-03-01</td><td>Colorado</td></tr><tr><td>108</td><td>Henry</td><td>2022-04-01</td><td>Utah</td></tr></tbody></table></div>"
      ]
     },
     "metadata": {
      "application/vnd.databricks.v1+output": {
       "addedWidgets": {},
       "aggData": [],
       "aggError": "",
       "aggOverflow": false,
       "aggSchema": [],
       "aggSeriesLimitReached": false,
       "aggType": "",
       "arguments": {},
       "columnCustomDisplayInfos": {},
       "data": [
        [
         "105",
         "Eva",
         "2022-01-01",
         "Ohio"
        ],
        [
         "106",
         "Frank",
         "2022-02-01",
         "Nevada"
        ],
        [
         "107",
         "Grace",
         "2022-03-01",
         "Colorado"
        ],
        [
         "108",
         "Henry",
         "2022-04-01",
         "Utah"
        ]
       ],
       "datasetInfos": [],
       "dbfsResultPath": null,
       "isJsonSchema": true,
       "metadata": {},
       "overflow": false,
       "plotOptions": {
        "customPlotOptions": {},
        "displayType": "table",
        "pivotAggregation": null,
        "pivotColumns": null,
        "xColumns": null,
        "yColumns": null
       },
       "removedWidgets": [],
       "schema": [
        {
         "metadata": "{}",
         "name": "customer_id",
         "type": "\"string\""
        },
        {
         "metadata": "{}",
         "name": "customer_name",
         "type": "\"string\""
        },
        {
         "metadata": "{}",
         "name": "join_date",
         "type": "\"string\""
        },
        {
         "metadata": "{}",
         "name": "location",
         "type": "\"string\""
        }
       ],
       "type": "table"
      }
     },
     "output_type": "display_data"
    }
   ],
   "source": [
    "spark = SparkSession.builder.appName(\"thebigdatashow.me\").getOrCreate()\n",
    "input_df = spark.read.format('csv').option('header',True).load(\"dbfs:/FileStore/tables/Customer_Updated.csv\")\n",
    "input_df.display()"
   ]
  },
  {
   "cell_type": "code",
   "execution_count": 0,
   "metadata": {
    "application/vnd.databricks.v1+cell": {
     "cellMetadata": {
      "byteLimit": 2048000,
      "rowLimit": 10000
     },
     "inputWidgets": {},
     "nuid": "675e8232-bea8-4987-b3b3-c32809982ba7",
     "showTitle": false,
     "tableResultSettingsMap": {},
     "title": ""
    }
   },
   "outputs": [],
   "source": [
    "class FirstWorkflow:\n",
    "    \"\"\" \n",
    "    ETL Pipeline to generate the data for all customer who bought airpods just after buying iphone\n",
    "    \"\"\"\n",
    "\n",
    "\n",
    "    def __init__(self):\n",
    "        pass\n",
    "    def runner(self):\n",
    "        # step 1 :- extract all req data from different source\n",
    "\n",
    "        inputDFs = Airpodsafteriphoneextractor().extract()\n",
    "\n",
    "        # step2 :- implement the transformation logic\n",
    "        # people buying airpods after buying iphone\n",
    "\n",
    "        # calling Firsttransformer class and from that class transform method \n",
    "        # file name of this class = transform.ipynb\n",
    "        first_transformed_df = AirpodsAfterIphone().transform(inputDFs)\n",
    "\n",
    "        # load the all the data to different sink\n",
    "\n",
    "        Airpodafteriphoneloader(first_transformed_df).sink()\n",
    "\n",
    "        \n",
    "         \n",
    "\n",
    "        # transaction_input_df.display()\n",
    "\n",
    "# firstworkflow = FirstWorkflow()\n",
    "# firstworkflow.runner()\n",
    "\n",
    "# lead() partition by customer_id & order by transaction date"
   ]
  },
  {
   "cell_type": "code",
   "execution_count": 0,
   "metadata": {
    "application/vnd.databricks.v1+cell": {
     "cellMetadata": {
      "byteLimit": 2048000,
      "rowLimit": 10000
     },
     "inputWidgets": {},
     "nuid": "857e6fe6-f831-4d2a-8464-18439d3e0fba",
     "showTitle": false,
     "tableResultSettingsMap": {},
     "title": ""
    }
   },
   "outputs": [],
   "source": [
    "class SecondWorkflow:\n",
    "    \"\"\" \n",
    "    ETL Pipeline to generate the data for all customer who bought only airpods and iphone\n",
    "    \"\"\"\n",
    "\n",
    "\n",
    "    def __init__(self):\n",
    "        pass\n",
    "    def runner(self):\n",
    "        # step 1 :- extract all req data from different source\n",
    "\n",
    "        inputDFs = Airpodsafteriphoneextractor().extract()\n",
    "\n",
    "        # step2 :- implement the transformation logic\n",
    "        # people buying airpods after buying iphone\n",
    "\n",
    "        # calling Firsttransformer class and from that class transform method \n",
    "        # file name of this class = transform.ipynb\n",
    "        only_airpods_and_iphonedf = OnlyAirpodsAndIphone().transform(inputDFs)\n",
    "\n",
    "        # load the all the data to different sink\n",
    "\n",
    "        OnlyAirpodsAndIphoneloader(only_airpods_and_iphonedf).sink()\n",
    "\n",
    "        \n",
    "         \n",
    "\n",
    "        # transaction_input_df.display()\n",
    "\n",
    "# secondworkflow = SecondWorkflow()\n",
    "# secondworkflow.runner()\n",
    "\n",
    "# lead() partition by customer_id & order by transaction date"
   ]
  },
  {
   "cell_type": "code",
   "execution_count": 0,
   "metadata": {
    "application/vnd.databricks.v1+cell": {
     "cellMetadata": {
      "byteLimit": 2048000,
      "rowLimit": 10000
     },
     "inputWidgets": {},
     "nuid": "73a4bf22-25b1-4f44-869f-d515e88d31ac",
     "showTitle": false,
     "tableResultSettingsMap": {},
     "title": ""
    }
   },
   "outputs": [
    {
     "output_type": "stream",
     "name": "stdout",
     "output_type": "stream",
     "text": [
      "Out[69]: True"
     ]
    }
   ],
   "source": [
    "dbutils.fs.rm(\"dbfs:/FileStore/sink_data/OnlyAirpodsAndIphone\", recurse=True)\n"
   ]
  },
  {
   "cell_type": "code",
   "execution_count": 0,
   "metadata": {
    "application/vnd.databricks.v1+cell": {
     "cellMetadata": {
      "byteLimit": 2048000,
      "rowLimit": 10000
     },
     "inputWidgets": {},
     "nuid": "8cb99b79-1125-407c-a991-d3d3db913f8b",
     "showTitle": false,
     "tableResultSettingsMap": {},
     "title": ""
    }
   },
   "outputs": [
    {
     "output_type": "display_data",
     "data": {
      "text/html": [
       "<style scoped>\n",
       "  .table-result-container {\n",
       "    max-height: 300px;\n",
       "    overflow: auto;\n",
       "  }\n",
       "  table, th, td {\n",
       "    border: 1px solid black;\n",
       "    border-collapse: collapse;\n",
       "  }\n",
       "  th, td {\n",
       "    padding: 5px;\n",
       "  }\n",
       "  th {\n",
       "    text-align: left;\n",
       "  }\n",
       "</style><div class='table-result-container'><table class='table-result'><thead style='background-color: white'><tr><th>transaction_id</th><th>customer_id</th><th>product_name</th><th>transaction_date</th></tr></thead><tbody><tr><td>11</td><td>105</td><td>iPhone</td><td>2022-02-01</td></tr><tr><td>14</td><td>105</td><td>AirPods</td><td>2022-02-04</td></tr><tr><td>18</td><td>105</td><td>MacBook</td><td>2022-02-08</td></tr><tr><td>12</td><td>106</td><td>iPhone</td><td>2022-02-02</td></tr><tr><td>16</td><td>106</td><td>MacBook</td><td>2022-02-06</td></tr><tr><td>20</td><td>106</td><td>AirPods</td><td>2022-02-10</td></tr><tr><td>13</td><td>107</td><td>AirPods</td><td>2022-02-03</td></tr><tr><td>17</td><td>107</td><td>iPhone</td><td>2022-02-07</td></tr><tr><td>15</td><td>108</td><td>iPhone</td><td>2022-02-05</td></tr><tr><td>19</td><td>108</td><td>AirPods</td><td>2022-02-09</td></tr></tbody></table></div>"
      ]
     },
     "metadata": {
      "application/vnd.databricks.v1+output": {
       "addedWidgets": {},
       "aggData": [],
       "aggError": "",
       "aggOverflow": false,
       "aggSchema": [],
       "aggSeriesLimitReached": false,
       "aggType": "",
       "arguments": {},
       "columnCustomDisplayInfos": {},
       "data": [
        [
         "11",
         "105",
         "iPhone",
         "2022-02-01"
        ],
        [
         "14",
         "105",
         "AirPods",
         "2022-02-04"
        ],
        [
         "18",
         "105",
         "MacBook",
         "2022-02-08"
        ],
        [
         "12",
         "106",
         "iPhone",
         "2022-02-02"
        ],
        [
         "16",
         "106",
         "MacBook",
         "2022-02-06"
        ],
        [
         "20",
         "106",
         "AirPods",
         "2022-02-10"
        ],
        [
         "13",
         "107",
         "AirPods",
         "2022-02-03"
        ],
        [
         "17",
         "107",
         "iPhone",
         "2022-02-07"
        ],
        [
         "15",
         "108",
         "iPhone",
         "2022-02-05"
        ],
        [
         "19",
         "108",
         "AirPods",
         "2022-02-09"
        ]
       ],
       "datasetInfos": [],
       "dbfsResultPath": null,
       "isJsonSchema": true,
       "metadata": {},
       "overflow": false,
       "plotOptions": {
        "customPlotOptions": {},
        "displayType": "table",
        "pivotAggregation": null,
        "pivotColumns": null,
        "xColumns": null,
        "yColumns": null
       },
       "removedWidgets": [],
       "schema": [
        {
         "metadata": "{}",
         "name": "transaction_id",
         "type": "\"string\""
        },
        {
         "metadata": "{}",
         "name": "customer_id",
         "type": "\"string\""
        },
        {
         "metadata": "{}",
         "name": "product_name",
         "type": "\"string\""
        },
        {
         "metadata": "{}",
         "name": "transaction_date",
         "type": "\"string\""
        }
       ],
       "type": "table"
      }
     },
     "output_type": "display_data"
    },
    {
     "output_type": "stream",
     "name": "stdout",
     "output_type": "stream",
     "text": [
      "customer table !!!!\n"
     ]
    },
    {
     "output_type": "display_data",
     "data": {
      "text/html": [
       "<style scoped>\n",
       "  .table-result-container {\n",
       "    max-height: 300px;\n",
       "    overflow: auto;\n",
       "  }\n",
       "  table, th, td {\n",
       "    border: 1px solid black;\n",
       "    border-collapse: collapse;\n",
       "  }\n",
       "  th, td {\n",
       "    padding: 5px;\n",
       "  }\n",
       "  th {\n",
       "    text-align: left;\n",
       "  }\n",
       "</style><div class='table-result-container'><table class='table-result'><thead style='background-color: white'><tr><th>customer_id</th><th>customer_name</th><th>join_date</th><th>location</th></tr></thead><tbody><tr><td>105</td><td>Eva</td><td>2022-01-01</td><td>Ohio</td></tr><tr><td>106</td><td>Frank</td><td>2022-02-01</td><td>Nevada</td></tr><tr><td>107</td><td>Grace</td><td>2022-03-01</td><td>Colorado</td></tr><tr><td>108</td><td>Henry</td><td>2022-04-01</td><td>Utah</td></tr></tbody></table></div>"
      ]
     },
     "metadata": {
      "application/vnd.databricks.v1+output": {
       "addedWidgets": {},
       "aggData": [],
       "aggError": "",
       "aggOverflow": false,
       "aggSchema": [],
       "aggSeriesLimitReached": false,
       "aggType": "",
       "arguments": {},
       "columnCustomDisplayInfos": {},
       "data": [
        [
         105,
         "Eva",
         "2022-01-01",
         "Ohio"
        ],
        [
         106,
         "Frank",
         "2022-02-01",
         "Nevada"
        ],
        [
         107,
         "Grace",
         "2022-03-01",
         "Colorado"
        ],
        [
         108,
         "Henry",
         "2022-04-01",
         "Utah"
        ]
       ],
       "datasetInfos": [],
       "dbfsResultPath": null,
       "isJsonSchema": true,
       "metadata": {},
       "overflow": false,
       "plotOptions": {
        "customPlotOptions": {},
        "displayType": "table",
        "pivotAggregation": null,
        "pivotColumns": null,
        "xColumns": null,
        "yColumns": null
       },
       "removedWidgets": [],
       "schema": [
        {
         "metadata": "{}",
         "name": "customer_id",
         "type": "\"integer\""
        },
        {
         "metadata": "{}",
         "name": "customer_name",
         "type": "\"string\""
        },
        {
         "metadata": "{\"__detected_date_formats\":\"yyyy-M-d\"}",
         "name": "join_date",
         "type": "\"date\""
        },
        {
         "metadata": "{}",
         "name": "location",
         "type": "\"string\""
        }
       ],
       "type": "table"
      }
     },
     "output_type": "display_data"
    },
    {
     "output_type": "stream",
     "name": "stdout",
     "output_type": "stream",
     "text": [
      "transaction_input_df in transform\n"
     ]
    },
    {
     "output_type": "display_data",
     "data": {
      "text/html": [
       "<style scoped>\n",
       "  .table-result-container {\n",
       "    max-height: 300px;\n",
       "    overflow: auto;\n",
       "  }\n",
       "  table, th, td {\n",
       "    border: 1px solid black;\n",
       "    border-collapse: collapse;\n",
       "  }\n",
       "  th, td {\n",
       "    padding: 5px;\n",
       "  }\n",
       "  th {\n",
       "    text-align: left;\n",
       "  }\n",
       "</style><div class='table-result-container'><table class='table-result'><thead style='background-color: white'><tr><th>transaction_id</th><th>customer_id</th><th>product_name</th><th>transaction_date</th></tr></thead><tbody><tr><td>11</td><td>105</td><td>iPhone</td><td>2022-02-01</td></tr><tr><td>12</td><td>106</td><td>iPhone</td><td>2022-02-02</td></tr><tr><td>13</td><td>107</td><td>AirPods</td><td>2022-02-03</td></tr><tr><td>14</td><td>105</td><td>AirPods</td><td>2022-02-04</td></tr><tr><td>15</td><td>108</td><td>iPhone</td><td>2022-02-05</td></tr><tr><td>16</td><td>106</td><td>MacBook</td><td>2022-02-06</td></tr><tr><td>17</td><td>107</td><td>iPhone</td><td>2022-02-07</td></tr><tr><td>18</td><td>105</td><td>MacBook</td><td>2022-02-08</td></tr><tr><td>19</td><td>108</td><td>AirPods</td><td>2022-02-09</td></tr><tr><td>20</td><td>106</td><td>AirPods</td><td>2022-02-10</td></tr></tbody></table></div>"
      ]
     },
     "metadata": {
      "application/vnd.databricks.v1+output": {
       "addedWidgets": {},
       "aggData": [],
       "aggError": "",
       "aggOverflow": false,
       "aggSchema": [],
       "aggSeriesLimitReached": false,
       "aggType": "",
       "arguments": {},
       "columnCustomDisplayInfos": {},
       "data": [
        [
         "11",
         "105",
         "iPhone",
         "2022-02-01"
        ],
        [
         "12",
         "106",
         "iPhone",
         "2022-02-02"
        ],
        [
         "13",
         "107",
         "AirPods",
         "2022-02-03"
        ],
        [
         "14",
         "105",
         "AirPods",
         "2022-02-04"
        ],
        [
         "15",
         "108",
         "iPhone",
         "2022-02-05"
        ],
        [
         "16",
         "106",
         "MacBook",
         "2022-02-06"
        ],
        [
         "17",
         "107",
         "iPhone",
         "2022-02-07"
        ],
        [
         "18",
         "105",
         "MacBook",
         "2022-02-08"
        ],
        [
         "19",
         "108",
         "AirPods",
         "2022-02-09"
        ],
        [
         "20",
         "106",
         "AirPods",
         "2022-02-10"
        ]
       ],
       "datasetInfos": [],
       "dbfsResultPath": null,
       "isJsonSchema": true,
       "metadata": {},
       "overflow": false,
       "plotOptions": {
        "customPlotOptions": {},
        "displayType": "table",
        "pivotAggregation": null,
        "pivotColumns": null,
        "xColumns": null,
        "yColumns": null
       },
       "removedWidgets": [],
       "schema": [
        {
         "metadata": "{}",
         "name": "transaction_id",
         "type": "\"string\""
        },
        {
         "metadata": "{}",
         "name": "customer_id",
         "type": "\"string\""
        },
        {
         "metadata": "{}",
         "name": "product_name",
         "type": "\"string\""
        },
        {
         "metadata": "{}",
         "name": "transaction_date",
         "type": "\"string\""
        }
       ],
       "type": "table"
      }
     },
     "output_type": "display_data"
    },
    {
     "output_type": "display_data",
     "data": {
      "text/html": [
       "<style scoped>\n",
       "  .table-result-container {\n",
       "    max-height: 300px;\n",
       "    overflow: auto;\n",
       "  }\n",
       "  table, th, td {\n",
       "    border: 1px solid black;\n",
       "    border-collapse: collapse;\n",
       "  }\n",
       "  th, td {\n",
       "    padding: 5px;\n",
       "  }\n",
       "  th {\n",
       "    text-align: left;\n",
       "  }\n",
       "</style><div class='table-result-container'><table class='table-result'><thead style='background-color: white'><tr><th>customer_id</th><th>produts</th></tr></thead><tbody><tr><td>107</td><td>List(AirPods, iPhone)</td></tr><tr><td>108</td><td>List(AirPods, iPhone)</td></tr><tr><td>106</td><td>List(AirPods, iPhone, MacBook)</td></tr><tr><td>105</td><td>List(AirPods, iPhone, MacBook)</td></tr></tbody></table></div>"
      ]
     },
     "metadata": {
      "application/vnd.databricks.v1+output": {
       "addedWidgets": {},
       "aggData": [],
       "aggError": "",
       "aggOverflow": false,
       "aggSchema": [],
       "aggSeriesLimitReached": false,
       "aggType": "",
       "arguments": {},
       "columnCustomDisplayInfos": {},
       "data": [
        [
         "107",
         [
          "AirPods",
          "iPhone"
         ]
        ],
        [
         "108",
         [
          "AirPods",
          "iPhone"
         ]
        ],
        [
         "106",
         [
          "AirPods",
          "iPhone",
          "MacBook"
         ]
        ],
        [
         "105",
         [
          "AirPods",
          "iPhone",
          "MacBook"
         ]
        ]
       ],
       "datasetInfos": [],
       "dbfsResultPath": null,
       "isJsonSchema": true,
       "metadata": {},
       "overflow": false,
       "plotOptions": {
        "customPlotOptions": {},
        "displayType": "table",
        "pivotAggregation": null,
        "pivotColumns": null,
        "xColumns": null,
        "yColumns": null
       },
       "removedWidgets": [],
       "schema": [
        {
         "metadata": "{}",
         "name": "customer_id",
         "type": "\"string\""
        },
        {
         "metadata": "{}",
         "name": "produts",
         "type": "{\"type\":\"array\",\"elementType\":\"string\",\"containsNull\":false}"
        }
       ],
       "type": "table"
      }
     },
     "output_type": "display_data"
    },
    {
     "output_type": "display_data",
     "data": {
      "text/html": [
       "<style scoped>\n",
       "  .table-result-container {\n",
       "    max-height: 300px;\n",
       "    overflow: auto;\n",
       "  }\n",
       "  table, th, td {\n",
       "    border: 1px solid black;\n",
       "    border-collapse: collapse;\n",
       "  }\n",
       "  th, td {\n",
       "    padding: 5px;\n",
       "  }\n",
       "  th {\n",
       "    text-align: left;\n",
       "  }\n",
       "</style><div class='table-result-container'><table class='table-result'><thead style='background-color: white'><tr><th>customer_id</th><th>produts</th></tr></thead><tbody><tr><td>107</td><td>List(AirPods, iPhone)</td></tr><tr><td>108</td><td>List(AirPods, iPhone)</td></tr></tbody></table></div>"
      ]
     },
     "metadata": {
      "application/vnd.databricks.v1+output": {
       "addedWidgets": {},
       "aggData": [],
       "aggError": "",
       "aggOverflow": false,
       "aggSchema": [],
       "aggSeriesLimitReached": false,
       "aggType": "",
       "arguments": {},
       "columnCustomDisplayInfos": {},
       "data": [
        [
         "107",
         [
          "AirPods",
          "iPhone"
         ]
        ],
        [
         "108",
         [
          "AirPods",
          "iPhone"
         ]
        ]
       ],
       "datasetInfos": [],
       "dbfsResultPath": null,
       "isJsonSchema": true,
       "metadata": {},
       "overflow": false,
       "plotOptions": {
        "customPlotOptions": {},
        "displayType": "table",
        "pivotAggregation": null,
        "pivotColumns": null,
        "xColumns": null,
        "yColumns": null
       },
       "removedWidgets": [],
       "schema": [
        {
         "metadata": "{}",
         "name": "customer_id",
         "type": "\"string\""
        },
        {
         "metadata": "{}",
         "name": "produts",
         "type": "{\"type\":\"array\",\"elementType\":\"string\",\"containsNull\":false}"
        }
       ],
       "type": "table"
      }
     },
     "output_type": "display_data"
    },
    {
     "output_type": "stream",
     "name": "stdout",
     "output_type": "stream",
     "text": [
      "join df !!!!!\n"
     ]
    },
    {
     "output_type": "display_data",
     "data": {
      "text/html": [
       "<style scoped>\n",
       "  .table-result-container {\n",
       "    max-height: 300px;\n",
       "    overflow: auto;\n",
       "  }\n",
       "  table, th, td {\n",
       "    border: 1px solid black;\n",
       "    border-collapse: collapse;\n",
       "  }\n",
       "  th, td {\n",
       "    padding: 5px;\n",
       "  }\n",
       "  th {\n",
       "    text-align: left;\n",
       "  }\n",
       "</style><div class='table-result-container'><table class='table-result'><thead style='background-color: white'><tr><th>customer_id</th><th>customer_name</th><th>join_date</th><th>location</th><th>produts</th></tr></thead><tbody><tr><td>107</td><td>Grace</td><td>2022-03-01</td><td>Colorado</td><td>List(AirPods, iPhone)</td></tr><tr><td>108</td><td>Henry</td><td>2022-04-01</td><td>Utah</td><td>List(AirPods, iPhone)</td></tr></tbody></table></div>"
      ]
     },
     "metadata": {
      "application/vnd.databricks.v1+output": {
       "addedWidgets": {},
       "aggData": [],
       "aggError": "",
       "aggOverflow": false,
       "aggSchema": [],
       "aggSeriesLimitReached": false,
       "aggType": "",
       "arguments": {},
       "columnCustomDisplayInfos": {},
       "data": [
        [
         107,
         "Grace",
         "2022-03-01",
         "Colorado",
         [
          "AirPods",
          "iPhone"
         ]
        ],
        [
         108,
         "Henry",
         "2022-04-01",
         "Utah",
         [
          "AirPods",
          "iPhone"
         ]
        ]
       ],
       "datasetInfos": [],
       "dbfsResultPath": null,
       "isJsonSchema": true,
       "metadata": {},
       "overflow": false,
       "plotOptions": {
        "customPlotOptions": {},
        "displayType": "table",
        "pivotAggregation": null,
        "pivotColumns": null,
        "xColumns": null,
        "yColumns": null
       },
       "removedWidgets": [],
       "schema": [
        {
         "metadata": "{}",
         "name": "customer_id",
         "type": "\"integer\""
        },
        {
         "metadata": "{}",
         "name": "customer_name",
         "type": "\"string\""
        },
        {
         "metadata": "{\"__detected_date_formats\":\"yyyy-M-d\"}",
         "name": "join_date",
         "type": "\"date\""
        },
        {
         "metadata": "{}",
         "name": "location",
         "type": "\"string\""
        },
        {
         "metadata": "{}",
         "name": "produts",
         "type": "{\"type\":\"array\",\"elementType\":\"string\",\"containsNull\":false}"
        }
       ],
       "type": "table"
      }
     },
     "output_type": "display_data"
    }
   ],
   "source": [
    "class WorkFlow:\n",
    "    def __init__(self,name):\n",
    "        self.name = name\n",
    "\n",
    "    def runner(self):\n",
    "        if self.name == \"FirstWorkflow\":\n",
    "            return FirstWorkflow().runner()\n",
    "        elif self.name == \"SecondWorkflow\":\n",
    "            return SecondWorkflow().runner()\n",
    "    \n",
    "name = \"SecondWorkflow\"\n",
    "workflowrunner = WorkFlow(name).runner()"
   ]
  },
  {
   "cell_type": "code",
   "execution_count": 0,
   "metadata": {
    "application/vnd.databricks.v1+cell": {
     "cellMetadata": {},
     "inputWidgets": {},
     "nuid": "c2bdf262-e07d-4d91-a77a-17ebe65e3b66",
     "showTitle": false,
     "tableResultSettingsMap": {},
     "title": ""
    }
   },
   "outputs": [],
   "source": []
  }
 ],
 "metadata": {
  "application/vnd.databricks.v1+notebook": {
   "computePreferences": null,
   "dashboards": [],
   "environmentMetadata": {
    "base_environment": "",
    "environment_version": "1"
   },
   "inputWidgetPreferences": null,
   "language": "python",
   "notebookMetadata": {
    "pythonIndentUnit": 4
   },
   "notebookName": "apple_analysis",
   "widgets": {}
  }
 },
 "nbformat": 4,
 "nbformat_minor": 0
}